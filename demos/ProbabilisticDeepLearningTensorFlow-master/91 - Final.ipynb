{
 "cells": [
  {
   "cell_type": "markdown",
   "metadata": {},
   "source": [
    "# Final Takeaways"
   ]
  },
  {
   "cell_type": "markdown",
   "metadata": {},
   "source": [
    "Let's go over some of the things we've learned here. You were introduced to TensorFlow Probability and the `layers` and `distributions` modules and shown how these topics can interoperate cleanly with TensorFlow 2.0 `keras` in order to train neural networks of near-arbitrary depth and complexity with full support for aleatoric uncertainty, epistemic uncertainty, or both.\n",
    "\n",
    "You also received a broad overview of the strengths of probabilistic programming and reasoning with uncertainty and gained a greated appreciation for the hidden uncertainties that you're potentially already exposed to in your current work."
   ]
  },
  {
   "cell_type": "markdown",
   "metadata": {},
   "source": [
    " "
   ]
  },
  {
   "cell_type": "markdown",
   "metadata": {},
   "source": [
    "# Further research"
   ]
  },
  {
   "cell_type": "markdown",
   "metadata": {},
   "source": [
    "I hope you're encouraged to learn more! Here is a compendium of resources I've found interesting and recommend to others:\n",
    "\n",
    "## Books:\n",
    "- [Probabilistic Programming and Bayesian Methods for Hackers](https://github.com/CamDavidsonPilon/Probabilistic-Programming-and-Bayesian-Methods-for-Hackers)\n",
    "  - This is one of the best possible entrypoints to probabilistic programming in a general sense, and it was recently ported from PyMC3 (an excellent language) to TensorFlow Probability.\n",
    "- [Probabilistic Models of Cognition](https://probmods.org)\n",
    "  - Probmods is an excellent theoretical treatment of probabilistic programming and its application to artificial intelligence\n",
    "\n",
    "## Blog posts:\n",
    "- [Thomas Wiecki, Bayesian Deep Learning](https://twiecki.io/blog/2016/06/01/bayesian-deep-learning/)\n",
    "  - Wiecki is one of the authors of PyMC3, originally written in Theano but now in the process of being ported to TensorFlow Probability for PyMC4\n",
    "- [Variational Autoencoders with TensorFlow Probability Layers](https://medium.com/tensorflow/variational-autoencoders-with-tensorflow-probability-layers-d06c658931b7)\n",
    "  - By the TensorFlow Probability Team, this is a reasonable next step from the material that we've covered here.\n",
    "\n",
    "## Talks\n",
    "- [Eric Ma, An Attempt at Demystifying Bayesian Deep Learning](https://www.youtube.com/watch?v=s0S6HFdPtlA)\n",
    "- [Josh Dillon, TensorFlow Probability: Learning with Confidence](https://www.youtube.com/watch?v=BrwKURU-wpk)"
   ]
  }
 ],
 "metadata": {
  "kernelspec": {
   "display_name": "Python 3",
   "language": "python",
   "name": "python3"
  },
  "language_info": {
   "codemirror_mode": {
    "name": "ipython",
    "version": 3
   },
   "file_extension": ".py",
   "mimetype": "text/x-python",
   "name": "python",
   "nbconvert_exporter": "python",
   "pygments_lexer": "ipython3",
   "version": "3.7.3"
  }
 },
 "nbformat": 4,
 "nbformat_minor": 4
}
