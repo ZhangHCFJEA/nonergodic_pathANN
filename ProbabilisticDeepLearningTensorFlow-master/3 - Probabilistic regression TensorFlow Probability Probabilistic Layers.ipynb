{
 "cells": [
  {
   "cell_type": "markdown",
   "metadata": {},
   "source": [
    "# 3 - Regression with Probabilistic Layers\n",
    "\n",
    "\n",
    "Much of this material is adapted from the excellent blog post (Regression with Probabilistic Layers in TensorFlow Probability)[https://medium.com/tensorflow/regression-with-probabilistic-layers-in-tensorflow-probability-e46ff5d37baf], from the TensorFlow Probability team.\n",
    "\n",
    "I'll walk through the problem formulation in order to get a handle on two types of uncertainty in machine learning problems and how TensorFlow Probability addresses each."
   ]
  },
  {
   "cell_type": "code",
   "execution_count": 1,
   "metadata": {},
   "outputs": [],
   "source": [
    "from __future__ import absolute_import\n",
    "from __future__ import division\n",
    "from __future__ import print_function\n",
    "\n",
    "from pprint import pprint\n",
    "from typing import Optional, Tuple\n",
    "\n",
    "import matplotlib.pyplot as plt\n",
    "import numpy as np\n",
    "import pandas as pd\n",
    "import scipy\n",
    "import seaborn as sns\n",
    "import tensorflow as tf\n",
    "from tensorflow.python import tf2\n",
    "import tensorflow_probability as tfp\n",
    "\n",
    "\n",
    "sns.reset_defaults()\n",
    "sns.set_context(context='talk',font_scale=0.7)\n",
    "\n",
    "%matplotlib inline\n",
    "\n",
    "tfd = tfp.distributions\n",
    "tf.get_logger().setLevel('ERROR')"
   ]
  },
  {
   "cell_type": "markdown",
   "metadata": {},
   "source": [
    "We've seen how to solve regression problems in TensorFlow 2.0 -- now let's take it into TensorFlow Probability-land! TensorFlow Probability integrates in first-class fashion with TensorFlow 2.0 and allows us to define a model in TensorFlow and optimize it in order to solve a loss function -- like the typical Negative Log Likelihood."
   ]
  },
  {
   "cell_type": "code",
   "execution_count": 2,
   "metadata": {},
   "outputs": [],
   "source": [
    "negloglik = lambda y, rv_y: -rv_y.log_prob(y)"
   ]
  },
  {
   "cell_type": "markdown",
   "metadata": {},
   "source": [
    "Negative-Log Likelihood is an important function that's worth examining in some detail. Here, it means the likelihood that a given random observation occurs for some expected distribution of random observations, logged, and made negative. We can work through exactly why this is helpful as a distributional loss function."
   ]
  },
  {
   "cell_type": "code",
   "execution_count": 3,
   "metadata": {},
   "outputs": [
    {
     "data": {
      "text/plain": [
       "array([-4.60517019, -0.69314718, -0.10536052,  0.        ,  0.40546511])"
      ]
     },
     "execution_count": 3,
     "metadata": {},
     "output_type": "execute_result"
    }
   ],
   "source": [
    "np.log([0.01, 0.5, 0.9, 1, 1.5])"
   ]
  },
  {
   "cell_type": "markdown",
   "metadata": {},
   "source": [
    "We know that log increases monotonically increasing for numbers greater than 0, and we know the log of a value less than 1 will be negative. Fortunately, all probability likelihoods we encounter will be between 0 and 1."
   ]
  },
  {
   "cell_type": "markdown",
   "metadata": {},
   "source": [
    "For any TensorFlow Probability distribution, we can calculate the likelihood that a given observation or set of observations will occur."
   ]
  },
  {
   "cell_type": "code",
   "execution_count": 4,
   "metadata": {},
   "outputs": [
    {
     "data": {
      "text/plain": [
       "<tf.Tensor: shape=(), dtype=float32, numpy=1.0279782e-18>"
      ]
     },
     "execution_count": 4,
     "metadata": {},
     "output_type": "execute_result"
    }
   ],
   "source": [
    "tfd.Normal(loc=0, scale=1).prob(9)"
   ]
  },
  {
   "cell_type": "code",
   "execution_count": 5,
   "metadata": {},
   "outputs": [
    {
     "data": {
      "text/plain": [
       "array([2.4197073e-01, 5.3990960e-02, 4.4318479e-03, 1.3383021e-04,\n",
       "       1.4867194e-06], dtype=float32)"
      ]
     },
     "execution_count": 5,
     "metadata": {},
     "output_type": "execute_result"
    }
   ],
   "source": [
    "tfd.Normal(loc=0, scale=1).prob([1, 2, 3, 4, 5]).numpy()"
   ]
  },
  {
   "cell_type": "markdown",
   "metadata": {},
   "source": [
    "If we then log these values, so that the less likely observations have the more negative outputs, then take the additive inverse, then we have the makings of a smooth loss function."
   ]
  },
  {
   "cell_type": "code",
   "execution_count": 6,
   "metadata": {},
   "outputs": [
    {
     "data": {
      "text/plain": [
       "-41.418938"
      ]
     },
     "execution_count": 6,
     "metadata": {},
     "output_type": "execute_result"
    }
   ],
   "source": [
    "np.log(tfd.Normal(loc=0, scale=1).prob(9).numpy())"
   ]
  },
  {
   "cell_type": "code",
   "execution_count": 7,
   "metadata": {},
   "outputs": [
    {
     "data": {
      "text/plain": [
       "41.41893768310547"
      ]
     },
     "execution_count": 7,
     "metadata": {},
     "output_type": "execute_result"
    }
   ],
   "source": [
    "np.log(tfd.Normal(loc=0, scale=1).prob(9).numpy()) * -1"
   ]
  },
  {
   "cell_type": "code",
   "execution_count": 8,
   "metadata": {},
   "outputs": [
    {
     "data": {
      "text/plain": [
       "41.418938"
      ]
     },
     "execution_count": 8,
     "metadata": {},
     "output_type": "execute_result"
    }
   ],
   "source": [
    "negloglik(9, tfd.Normal(loc=0, scale=1)).numpy()"
   ]
  },
  {
   "cell_type": "code",
   "execution_count": 9,
   "metadata": {},
   "outputs": [
    {
     "data": {
      "text/plain": [
       "1.4189385"
      ]
     },
     "execution_count": 9,
     "metadata": {},
     "output_type": "execute_result"
    }
   ],
   "source": [
    "negloglik(1, tfd.Normal(loc=0, scale=1)).numpy()"
   ]
  },
  {
   "cell_type": "code",
   "execution_count": 10,
   "metadata": {},
   "outputs": [
    {
     "data": {
      "text/plain": [
       "1.4189385"
      ]
     },
     "execution_count": 10,
     "metadata": {},
     "output_type": "execute_result"
    }
   ],
   "source": [
    "negloglik(-1, tfd.Normal(loc=0, scale=1)).numpy()"
   ]
  },
  {
   "cell_type": "code",
   "execution_count": 6,
   "metadata": {},
   "outputs": [
    {
     "data": {
      "text/plain": [
       "array([5.0009189e+03, 5.0918938e+01, 1.4189385e+00, 9.1893852e-01,\n",
       "       1.4189385e+00, 5.0918938e+01, 5.0009189e+03], dtype=float32)"
      ]
     },
     "execution_count": 6,
     "metadata": {},
     "output_type": "execute_result"
    }
   ],
   "source": [
    "negloglik([100, 10, 1, 0, -1, -10, -100], tfd.Normal(loc=0, scale=1)).numpy()"
   ]
  },
  {
   "cell_type": "markdown",
   "metadata": {},
   "source": [
    " "
   ]
  },
  {
   "cell_type": "markdown",
   "metadata": {},
   "source": [
    "This function has the nice property that it tells us how reasonable an observation is, given a probability distribution that we've defined. If we treat the data that we observe as _true_, then we can _learn_ a distribution that _minimizes_ the negative log likelihood across all observed distributions."
   ]
  },
  {
   "cell_type": "markdown",
   "metadata": {},
   "source": [
    "## Generate test data"
   ]
  },
  {
   "cell_type": "markdown",
   "metadata": {},
   "source": [
    "For this problem, let's start from base principles and define our own data set from scratch. We're only going to be working on simple linear regression of **Y** given a one-dimensional **X**."
   ]
  },
  {
   "cell_type": "code",
   "execution_count": 93,
   "metadata": {},
   "outputs": [
    {
     "data": {
      "image/png": "[encoded data removed]",
      "text/plain": [
       "<Figure size 432x288 with 1 Axes>"
      ]
     },
     "metadata": {
      "needs_background": "light"
     },
     "output_type": "display_data"
    }
   ],
   "source": [
    "w0 = 0.125\n",
    "b0 = 5.\n",
    "x_range = [-20, 60]\n",
    "\n",
    "def load_dataset(n=150, n_tst=150) -> Tuple[np.ndarray, np.ndarray, np.ndarray]:\n",
    "    \"\"\"Load a dataset of length n and a test dataset of length n_test.\"\"\"\n",
    "    np.random.seed(43)\n",
    "    def s(x):\n",
    "        g = (x - x_range[0]) / (x_range[1] - x_range[0])\n",
    "        return 3 * (0.25 + g**2.)\n",
    "    x = (x_range[1] - x_range[0]) * np.random.rand(n) + x_range[0]\n",
    "    eps = np.random.randn(n) * s(x)\n",
    "    y = (w0 * x * (1. + np.sin(x)) + b0) + eps\n",
    "    x = x[..., np.newaxis]\n",
    "    x_tst = np.linspace(*x_range, num=n_tst).astype(np.float32)\n",
    "    x_tst = x_tst[..., np.newaxis]\n",
    "    return y, x, x_tst\n",
    "\n",
    "y, x, x_tst = load_dataset()\n",
    "\n",
    "n = 100\n",
    "x_func = np.linspace(-4,4,100)\n",
    "y_func = x_func\n",
    "\n",
    "x_train = np.random.uniform(-3, -2, n)\n",
    "y_train = x_train + np.random.randn(*x_train.shape)*0.5\n",
    "\n",
    "x_train = np.concatenate([x_train, np.random.uniform(2, 3, n)])\n",
    "y_train = np.concatenate([y_train, x_train[n:] + np.random.randn(*x_train[n:].shape)*0.1])\n",
    "x_test = np.linspace(-5,5,100)\n",
    "\n",
    "\n",
    "x = x_train\n",
    "y = y_train\n",
    "x_tst = x_test[..., np.newaxis]\n",
    "\n",
    "\n",
    "def generate_data(N=100):\n",
    "    X = np.random.rand(N)[:, None] * 10 - 5  # Inputs, shape N x 1\n",
    "    F = 2.5 * np.sin(6 * X) + np.cos(3 * X)  # Mean function values\n",
    "    groups = np.where(X > 0, 0, 1)\n",
    "    NoiseVar = np.array([0.02, 0.5])[groups]  # Different variances for the two groups\n",
    "    Y = F + np.random.randn(N, 1) * np.sqrt(NoiseVar)  # Noisy data\n",
    "    return X, Y, groups\n",
    "\n",
    "\n",
    "X, Y, groups = generate_data()\n",
    "plt.scatter(X,Y)\n",
    "\n",
    "x = X\n",
    "y = Y\n",
    "x_tst = x_test[..., np.newaxis]"
   ]
  },
  {
   "cell_type": "code",
   "execution_count": 94,
   "metadata": {},
   "outputs": [],
   "source": [
    "df = pd.DataFrame(x)\n",
    "df['y'] = y\n",
    "df.columns = ['x', 'y']"
   ]
  },
  {
   "cell_type": "code",
   "execution_count": 95,
   "metadata": {},
   "outputs": [
    {
     "data": {
      "text/html": [
       "<div>\n",
       "<style scoped>\n",
       "    .dataframe tbody tr th:only-of-type {\n",
       "        vertical-align: middle;\n",
       "    }\n",
       "\n",
       "    .dataframe tbody tr th {\n",
       "        vertical-align: top;\n",
       "    }\n",
       "\n",
       "    .dataframe thead th {\n",
       "        text-align: right;\n",
       "    }\n",
       "</style>\n",
       "<table border=\"1\" class=\"dataframe\">\n",
       "  <thead>\n",
       "    <tr style=\"text-align: right;\">\n",
       "      <th></th>\n",
       "      <th>x</th>\n",
       "      <th>y</th>\n",
       "    </tr>\n",
       "  </thead>\n",
       "  <tbody>\n",
       "    <tr>\n",
       "      <th>0</th>\n",
       "      <td>2.781192</td>\n",
       "      <td>-2.581425</td>\n",
       "    </tr>\n",
       "    <tr>\n",
       "      <th>1</th>\n",
       "      <td>3.123047</td>\n",
       "      <td>-1.273783</td>\n",
       "    </tr>\n",
       "    <tr>\n",
       "      <th>2</th>\n",
       "      <td>4.368448</td>\n",
       "      <td>3.168227</td>\n",
       "    </tr>\n",
       "    <tr>\n",
       "      <th>3</th>\n",
       "      <td>-2.729998</td>\n",
       "      <td>2.027076</td>\n",
       "    </tr>\n",
       "    <tr>\n",
       "      <th>4</th>\n",
       "      <td>-0.051940</td>\n",
       "      <td>0.496906</td>\n",
       "    </tr>\n",
       "  </tbody>\n",
       "</table>\n",
       "</div>"
      ],
      "text/plain": [
       "          x         y\n",
       "0  2.781192 -2.581425\n",
       "1  3.123047 -1.273783\n",
       "2  4.368448  3.168227\n",
       "3 -2.729998  2.027076\n",
       "4 -0.051940  0.496906"
      ]
     },
     "execution_count": 95,
     "metadata": {},
     "output_type": "execute_result"
    }
   ],
   "source": [
    "df.head()"
   ]
  },
  {
   "cell_type": "markdown",
   "metadata": {},
   "source": [
    "Let's take a look at what the relationship between these data looks like."
   ]
  },
  {
   "cell_type": "code",
   "execution_count": 96,
   "metadata": {},
   "outputs": [
    {
     "data": {
      "text/plain": [
       "<seaborn.axisgrid.FacetGrid at 0x142b5f910>"
      ]
     },
     "execution_count": 96,
     "metadata": {},
     "output_type": "execute_result"
    },
    {
     "data": {
      "image/png": "[encoded data removed]",
      "text/plain": [
       "<Figure size 360x360 with 1 Axes>"
      ]
     },
     "metadata": {
      "needs_background": "light"
     },
     "output_type": "display_data"
    }
   ],
   "source": [
    "sns.relplot(x=\"x\", y=\"y\", data=df)"
   ]
  },
  {
   "cell_type": "markdown",
   "metadata": {},
   "source": [
    "Seems linear enough -- let's build a linear regression model to test it out."
   ]
  },
  {
   "cell_type": "markdown",
   "metadata": {},
   "source": [
    "## Linear regression in TensorFlow Probability"
   ]
  },
  {
   "cell_type": "code",
   "execution_count": 97,
   "metadata": {},
   "outputs": [],
   "source": [
    "class PrintDot(tf.keras.callbacks.Callback):\n",
    "    \"\"\"\n",
    "    Display training progress by printing a single dot for \n",
    "    each completed epoch.\n",
    "    \"\"\"\n",
    "    def on_epoch_end(self, epoch, logs) -> None:\n",
    "        \"\"\"\n",
    "        `on_epoc_end` hook to take the epoch number and logs.\n",
    "        This will run whenever the training loop finishes an epoch.\n",
    "        \"\"\"\n",
    "        if epoch % 100 == 0: \n",
    "            print('')\n",
    "        print('.', end='')\n",
    "\n",
    "\n",
    "#  Note that we're explicitly modeling the output of our Dense layer as an input parameter to \n",
    "#  a TensorFlow Probability distribution.\n",
    "model = tf.keras.Sequential([\n",
    "    tf.keras.layers.Dense(1),\n",
    "    tfp.layers.DistributionLambda(lambda t: tfd.Normal(loc=t, scale=1)),\n",
    "])"
   ]
  },
  {
   "cell_type": "markdown",
   "metadata": {},
   "source": [
    "Here, we've specified the Dense layer as outputting the mean of a Normal distribution that has a constant standard deviation of 1. This means that the neural network, rather than predicting the value of _x_ given _y_, is predicting the mean of a normal distribution whose standard deviation is 1, given _x_."
   ]
  },
  {
   "cell_type": "markdown",
   "metadata": {},
   "source": [
    " "
   ]
  },
  {
   "cell_type": "code",
   "execution_count": 98,
   "metadata": {},
   "outputs": [
    {
     "name": "stdout",
     "output_type": "stream",
     "text": [
      "\n",
      "....................................................................................................\n",
      "....................................................................................................\n",
      "....................................................................................................\n",
      "....................................................................................................\n",
      "....................................................................................................\n",
      "....................................................................................................\n",
      "....................................................................................................\n",
      "....................................................................................................\n",
      "....................................................................................................\n",
      "...................................................................................................."
     ]
    }
   ],
   "source": [
    "model.compile(optimizer=tf.optimizers.RMSprop(0.01), loss='mse')\n",
    "history = model.fit(x, \n",
    "                    y, \n",
    "                    epochs=1000, \n",
    "                    validation_split=0.2,\n",
    "                    verbose=0, \n",
    "                    callbacks=[PrintDot()]\n",
    "                   )"
   ]
  },
  {
   "cell_type": "markdown",
   "metadata": {},
   "source": [
    "By using our `tfp.layers` object in the definition of the model, we manage to create a TensorFlow Probability **Distribution** as our output of calling the model. Compare this to previously, when we simply got a NumPy Array object out."
   ]
  },
  {
   "cell_type": "code",
   "execution_count": 99,
   "metadata": {},
   "outputs": [],
   "source": [
    "yhat = model(x_tst)\n",
    "assert isinstance(yhat, tfd.Distribution)"
   ]
  },
  {
   "cell_type": "markdown",
   "metadata": {},
   "source": [
    "TensorFlow Probability distributions have the nice feature that we can do statistical things on them, like draw samples."
   ]
  },
  {
   "cell_type": "code",
   "execution_count": 100,
   "metadata": {},
   "outputs": [],
   "source": [
    "tensor_draw = yhat.sample(1000)"
   ]
  },
  {
   "cell_type": "code",
   "execution_count": 101,
   "metadata": {},
   "outputs": [
    {
     "data": {
      "text/plain": [
       "TensorShape([1000, 100, 1])"
      ]
     },
     "execution_count": 101,
     "metadata": {},
     "output_type": "execute_result"
    }
   ],
   "source": [
    "tensor_draw.shape"
   ]
  },
  {
   "cell_type": "markdown",
   "metadata": {},
   "source": [
    "So now we have 1,000 draws from each of the distributions learned for our 150 _x_'s. Let's put these into a DataFrame."
   ]
  },
  {
   "cell_type": "code",
   "execution_count": 102,
   "metadata": {},
   "outputs": [],
   "source": [
    "df = pd.DataFrame(tensor_draw.numpy().squeeze())"
   ]
  },
  {
   "cell_type": "code",
   "execution_count": 103,
   "metadata": {},
   "outputs": [
    {
     "data": {
      "text/html": [
       "<div>\n",
       "<style scoped>\n",
       "    .dataframe tbody tr th:only-of-type {\n",
       "        vertical-align: middle;\n",
       "    }\n",
       "\n",
       "    .dataframe tbody tr th {\n",
       "        vertical-align: top;\n",
       "    }\n",
       "\n",
       "    .dataframe thead th {\n",
       "        text-align: right;\n",
       "    }\n",
       "</style>\n",
       "<table border=\"1\" class=\"dataframe\">\n",
       "  <thead>\n",
       "    <tr style=\"text-align: right;\">\n",
       "      <th></th>\n",
       "      <th>0</th>\n",
       "      <th>1</th>\n",
       "      <th>2</th>\n",
       "      <th>3</th>\n",
       "      <th>4</th>\n",
       "      <th>5</th>\n",
       "      <th>6</th>\n",
       "      <th>7</th>\n",
       "      <th>8</th>\n",
       "      <th>9</th>\n",
       "      <th>...</th>\n",
       "      <th>90</th>\n",
       "      <th>91</th>\n",
       "      <th>92</th>\n",
       "      <th>93</th>\n",
       "      <th>94</th>\n",
       "      <th>95</th>\n",
       "      <th>96</th>\n",
       "      <th>97</th>\n",
       "      <th>98</th>\n",
       "      <th>99</th>\n",
       "    </tr>\n",
       "  </thead>\n",
       "  <tbody>\n",
       "    <tr>\n",
       "      <th>0</th>\n",
       "      <td>-0.071959</td>\n",
       "      <td>-0.959413</td>\n",
       "      <td>0.953502</td>\n",
       "      <td>2.140098</td>\n",
       "      <td>-2.249778</td>\n",
       "      <td>2.451067</td>\n",
       "      <td>0.213022</td>\n",
       "      <td>-0.603655</td>\n",
       "      <td>0.770270</td>\n",
       "      <td>-0.599362</td>\n",
       "      <td>...</td>\n",
       "      <td>-0.745982</td>\n",
       "      <td>-0.995673</td>\n",
       "      <td>-0.049510</td>\n",
       "      <td>0.521394</td>\n",
       "      <td>-0.395311</td>\n",
       "      <td>-0.513366</td>\n",
       "      <td>1.075075</td>\n",
       "      <td>-0.663084</td>\n",
       "      <td>0.372977</td>\n",
       "      <td>-1.350555</td>\n",
       "    </tr>\n",
       "    <tr>\n",
       "      <th>1</th>\n",
       "      <td>0.068602</td>\n",
       "      <td>1.365755</td>\n",
       "      <td>-0.161216</td>\n",
       "      <td>0.699218</td>\n",
       "      <td>0.697774</td>\n",
       "      <td>0.005125</td>\n",
       "      <td>0.924058</td>\n",
       "      <td>-0.357088</td>\n",
       "      <td>-0.294071</td>\n",
       "      <td>0.428557</td>\n",
       "      <td>...</td>\n",
       "      <td>-1.210686</td>\n",
       "      <td>-0.355515</td>\n",
       "      <td>-1.655134</td>\n",
       "      <td>2.037252</td>\n",
       "      <td>-0.173775</td>\n",
       "      <td>0.355115</td>\n",
       "      <td>-1.624249</td>\n",
       "      <td>-0.376707</td>\n",
       "      <td>-1.149158</td>\n",
       "      <td>-0.480016</td>\n",
       "    </tr>\n",
       "    <tr>\n",
       "      <th>2</th>\n",
       "      <td>0.137119</td>\n",
       "      <td>0.839411</td>\n",
       "      <td>0.302675</td>\n",
       "      <td>1.311215</td>\n",
       "      <td>2.143278</td>\n",
       "      <td>1.743858</td>\n",
       "      <td>-0.007983</td>\n",
       "      <td>-0.637086</td>\n",
       "      <td>2.232308</td>\n",
       "      <td>0.311584</td>\n",
       "      <td>...</td>\n",
       "      <td>-1.248206</td>\n",
       "      <td>-0.495978</td>\n",
       "      <td>-0.186231</td>\n",
       "      <td>-0.028399</td>\n",
       "      <td>-1.159005</td>\n",
       "      <td>-0.280946</td>\n",
       "      <td>0.236843</td>\n",
       "      <td>1.786737</td>\n",
       "      <td>-0.104423</td>\n",
       "      <td>1.280191</td>\n",
       "    </tr>\n",
       "    <tr>\n",
       "      <th>3</th>\n",
       "      <td>0.227655</td>\n",
       "      <td>-0.009631</td>\n",
       "      <td>0.236548</td>\n",
       "      <td>1.321153</td>\n",
       "      <td>0.127115</td>\n",
       "      <td>-0.081438</td>\n",
       "      <td>0.449656</td>\n",
       "      <td>2.583372</td>\n",
       "      <td>0.089077</td>\n",
       "      <td>-0.495070</td>\n",
       "      <td>...</td>\n",
       "      <td>-0.053212</td>\n",
       "      <td>-0.545874</td>\n",
       "      <td>-2.651031</td>\n",
       "      <td>-0.443421</td>\n",
       "      <td>-0.205272</td>\n",
       "      <td>-0.192732</td>\n",
       "      <td>0.263559</td>\n",
       "      <td>0.211311</td>\n",
       "      <td>-0.222734</td>\n",
       "      <td>-0.631011</td>\n",
       "    </tr>\n",
       "    <tr>\n",
       "      <th>4</th>\n",
       "      <td>0.577051</td>\n",
       "      <td>1.721181</td>\n",
       "      <td>1.630863</td>\n",
       "      <td>-0.490380</td>\n",
       "      <td>0.445381</td>\n",
       "      <td>0.461492</td>\n",
       "      <td>-0.220019</td>\n",
       "      <td>0.554041</td>\n",
       "      <td>1.062090</td>\n",
       "      <td>2.025711</td>\n",
       "      <td>...</td>\n",
       "      <td>0.924507</td>\n",
       "      <td>-0.791554</td>\n",
       "      <td>0.625620</td>\n",
       "      <td>-1.464047</td>\n",
       "      <td>0.350487</td>\n",
       "      <td>-0.546207</td>\n",
       "      <td>0.556295</td>\n",
       "      <td>-0.288791</td>\n",
       "      <td>1.103066</td>\n",
       "      <td>-0.135267</td>\n",
       "    </tr>\n",
       "  </tbody>\n",
       "</table>\n",
       "<p>5 rows × 100 columns</p>\n",
       "</div>"
      ],
      "text/plain": [
       "         0         1         2         3         4         5         6   \\\n",
       "0 -0.071959 -0.959413  0.953502  2.140098 -2.249778  2.451067  0.213022   \n",
       "1  0.068602  1.365755 -0.161216  0.699218  0.697774  0.005125  0.924058   \n",
       "2  0.137119  0.839411  0.302675  1.311215  2.143278  1.743858 -0.007983   \n",
       "3  0.227655 -0.009631  0.236548  1.321153  0.127115 -0.081438  0.449656   \n",
       "4  0.577051  1.721181  1.630863 -0.490380  0.445381  0.461492 -0.220019   \n",
       "\n",
       "         7         8         9   ...        90        91        92        93  \\\n",
       "0 -0.603655  0.770270 -0.599362  ... -0.745982 -0.995673 -0.049510  0.521394   \n",
       "1 -0.357088 -0.294071  0.428557  ... -1.210686 -0.355515 -1.655134  2.037252   \n",
       "2 -0.637086  2.232308  0.311584  ... -1.248206 -0.495978 -0.186231 -0.028399   \n",
       "3  2.583372  0.089077 -0.495070  ... -0.053212 -0.545874 -2.651031 -0.443421   \n",
       "4  0.554041  1.062090  2.025711  ...  0.924507 -0.791554  0.625620 -1.464047   \n",
       "\n",
       "         94        95        96        97        98        99  \n",
       "0 -0.395311 -0.513366  1.075075 -0.663084  0.372977 -1.350555  \n",
       "1 -0.173775  0.355115 -1.624249 -0.376707 -1.149158 -0.480016  \n",
       "2 -1.159005 -0.280946  0.236843  1.786737 -0.104423  1.280191  \n",
       "3 -0.205272 -0.192732  0.263559  0.211311 -0.222734 -0.631011  \n",
       "4  0.350487 -0.546207  0.556295 -0.288791  1.103066 -0.135267  \n",
       "\n",
       "[5 rows x 100 columns]"
      ]
     },
     "execution_count": 103,
     "metadata": {},
     "output_type": "execute_result"
    }
   ],
   "source": [
    "df.head()"
   ]
  },
  {
   "cell_type": "markdown",
   "metadata": {},
   "source": [
    "Let's plot an example draw from this distribution."
   ]
  },
  {
   "cell_type": "code",
   "execution_count": 104,
   "metadata": {},
   "outputs": [
    {
     "data": {
      "text/plain": [
       "<matplotlib.axes._subplots.AxesSubplot at 0x144979890>"
      ]
     },
     "execution_count": 104,
     "metadata": {},
     "output_type": "execute_result"
    },
    {
     "data": {
      "image/png": "[encoded data removed]",
      "text/plain": [
       "<Figure size 432x288 with 1 Axes>"
      ]
     },
     "metadata": {
      "needs_background": "light"
     },
     "output_type": "display_data"
    }
   ],
   "source": [
    "df.T[0].plot()"
   ]
  },
  {
   "cell_type": "markdown",
   "metadata": {},
   "source": [
    "That's pretty unstable, but it shows the randomness present in each of the random draws (as well as the constant variance -- note the range of the predictions doesn't seem to change from the first draw to the last."
   ]
  },
  {
   "cell_type": "markdown",
   "metadata": {},
   "source": [
    "Let's plot the mean of all 1,000 draws for each input _x_ as well."
   ]
  },
  {
   "cell_type": "code",
   "execution_count": 105,
   "metadata": {},
   "outputs": [
    {
     "data": {
      "text/plain": [
       "<matplotlib.axes._subplots.AxesSubplot at 0x142de5050>"
      ]
     },
     "execution_count": 105,
     "metadata": {},
     "output_type": "execute_result"
    },
    {
     "data": {
      "image/png": "[encoded data removed]",
      "text/plain": [
       "<Figure size 432x288 with 1 Axes>"
      ]
     },
     "metadata": {
      "needs_background": "light"
     },
     "output_type": "display_data"
    }
   ],
   "source": [
    "df.mean().plot()"
   ]
  },
  {
   "cell_type": "markdown",
   "metadata": {},
   "source": [
    "Much better - the mean of the predicted data increases linearly with the size of the input. This matches our intuition."
   ]
  },
  {
   "cell_type": "code",
   "execution_count": 106,
   "metadata": {},
   "outputs": [
    {
     "data": {
      "text/plain": [
       "<matplotlib.axes._subplots.AxesSubplot at 0x1451309d0>"
      ]
     },
     "execution_count": 106,
     "metadata": {},
     "output_type": "execute_result"
    },
    {
     "data": {
      "image/png": "[encoded data removed]",
      "text/plain": [
       "<Figure size 432x288 with 1 Axes>"
      ]
     },
     "metadata": {
      "needs_background": "light"
     },
     "output_type": "display_data"
    }
   ],
   "source": [
    "df.std().plot()"
   ]
  },
  {
   "cell_type": "markdown",
   "metadata": {},
   "source": [
    "However, as we noted earlier, the standard deviation doesn't seem to change. It looks like it's mostly homoskedastic. Let's check this out, compared to the actual data."
   ]
  },
  {
   "cell_type": "code",
   "execution_count": 107,
   "metadata": {},
   "outputs": [
    {
     "data": {
      "text/plain": [
       "<matplotlib.legend.Legend at 0x145fa0f90>"
      ]
     },
     "execution_count": 107,
     "metadata": {},
     "output_type": "execute_result"
    },
    {
     "data": {
      "image/png": "[encoded data removed]",
      "text/plain": [
       "<Figure size 720x612 with 1 Axes>"
      ]
     },
     "metadata": {
      "needs_background": "light"
     },
     "output_type": "display_data"
    }
   ],
   "source": [
    "w = np.squeeze(model.layers[-2].kernel.numpy())\n",
    "b = np.squeeze(model.layers[-2].bias.numpy())\n",
    "\n",
    "plt.figure(figsize=[10, 8.5])\n",
    "plt.plot(x, y, 'b.', label='observed');\n",
    "plt.plot(x_tst, yhat.mean(),'r', label='mean draw', linewidth=4);\n",
    "#plt.ylim(-0.,17);\n",
    "#plt.yticks(np.linspace(0, 15, 4)[1:]);\n",
    "#plt.xticks(np.linspace(*x_range, num=9));\n",
    "\n",
    "ax = plt.gca();\n",
    "ax.xaxis.set_ticks_position('bottom')\n",
    "ax.yaxis.set_ticks_position('left')\n",
    "ax.spines['left'].set_position(('data', 0))\n",
    "ax.spines['top'].set_visible(False)\n",
    "ax.spines['right'].set_visible(False)\n",
    "plt.legend(loc='center left', fancybox=True, framealpha=0., bbox_to_anchor=(1.05, 0.5))"
   ]
  },
  {
   "cell_type": "markdown",
   "metadata": {},
   "source": [
    " "
   ]
  },
  {
   "cell_type": "markdown",
   "metadata": {},
   "source": [
    "This looks like an ok model (and it's about as far as we can go with traditional linear regression for these input data), but it's clear that we actually should have a lot _more_ uncertainty as the magnitudes of our input _x_'s increase. "
   ]
  },
  {
   "cell_type": "markdown",
   "metadata": {},
   "source": [
    " "
   ]
  },
  {
   "cell_type": "code",
   "execution_count": 68,
   "metadata": {},
   "outputs": [
    {
     "data": {
      "text/html": [
       "<iframe src=\"https://towardsdatascience.com/assumptions-of-linear-regression-algorithm-ed9ea32224e1\" width=\"1200\" height=\"1000\"></iframe>\n"
      ],
      "text/plain": [
       "<IPython.core.display.HTML object>"
      ]
     },
     "metadata": {},
     "output_type": "display_data"
    }
   ],
   "source": [
    "%%HTML\n",
    "<iframe src=\"https://towardsdatascience.com/assumptions-of-linear-regression-algorithm-ed9ea32224e1\" width=\"1200\" height=\"1000\"></iframe>\n"
   ]
  },
  {
   "cell_type": "markdown",
   "metadata": {},
   "source": [
    " "
   ]
  },
  {
   "cell_type": "markdown",
   "metadata": {},
   "source": [
    "Fortunately, TensorFlow Probability allows us to be more flexible than most traditional formulations of linear regression."
   ]
  },
  {
   "cell_type": "markdown",
   "metadata": {},
   "source": [
    " "
   ]
  },
  {
   "cell_type": "code",
   "execution_count": 108,
   "metadata": {},
   "outputs": [
    {
     "name": "stdout",
     "output_type": "stream",
     "text": [
      "\n",
      "....................................................................................................\n",
      "....................................................................................................\n",
      "....................................................................................................\n",
      "....................................................................................................\n",
      "....................................................................................................\n",
      "....................................................................................................\n",
      "....................................................................................................\n",
      "....................................................................................................\n",
      "....................................................................................................\n",
      "...................................................................................................."
     ]
    }
   ],
   "source": [
    "# Build model.\n",
    "model = tf.keras.Sequential(\n",
    "    [\n",
    "        tf.keras.layers.Dense(1 + 1),  # Output two floats now, instead of just one.\n",
    "        tfp.layers.DistributionLambda(\n",
    "            lambda t: tfd.Normal(\n",
    "                loc=t[..., :1],\n",
    "                scale=1e-3 + tf.math.softplus(0.05 * t[..., 1:])  # Fit the standard deviation to the second term\n",
    "            )\n",
    "        ),\n",
    "    ]\n",
    ")\n",
    "\n",
    "\n",
    "# Due to TensorFlow 2.0 Eager semantics, we can use `negloglik` directly as our loss function.\n",
    "model.compile(optimizer=tf.optimizers.Adam(learning_rate=0.01), loss=negloglik)\n",
    "history = model.fit(\n",
    "    x, \n",
    "    y, \n",
    "    epochs=1000, \n",
    "    validation_split=0.2, \n",
    "    verbose=0,\n",
    "    callbacks=[PrintDot()]\n",
    ")\n",
    "\n",
    "\n",
    "yhat = model(x_tst)\n",
    "assert isinstance(yhat, tfd.Distribution)"
   ]
  },
  {
   "cell_type": "markdown",
   "metadata": {},
   "source": [
    " "
   ]
  },
  {
   "cell_type": "markdown",
   "metadata": {},
   "source": [
    "Let's sample again from our output distribution from calling the model using our `x_tst` data set."
   ]
  },
  {
   "cell_type": "markdown",
   "metadata": {},
   "source": [
    " "
   ]
  },
  {
   "cell_type": "code",
   "execution_count": 109,
   "metadata": {},
   "outputs": [
    {
     "data": {
      "text/html": [
       "<div>\n",
       "<style scoped>\n",
       "    .dataframe tbody tr th:only-of-type {\n",
       "        vertical-align: middle;\n",
       "    }\n",
       "\n",
       "    .dataframe tbody tr th {\n",
       "        vertical-align: top;\n",
       "    }\n",
       "\n",
       "    .dataframe thead th {\n",
       "        text-align: right;\n",
       "    }\n",
       "</style>\n",
       "<table border=\"1\" class=\"dataframe\">\n",
       "  <thead>\n",
       "    <tr style=\"text-align: right;\">\n",
       "      <th></th>\n",
       "      <th>0</th>\n",
       "      <th>1</th>\n",
       "      <th>2</th>\n",
       "      <th>3</th>\n",
       "      <th>4</th>\n",
       "      <th>5</th>\n",
       "      <th>6</th>\n",
       "      <th>7</th>\n",
       "      <th>8</th>\n",
       "      <th>9</th>\n",
       "      <th>...</th>\n",
       "      <th>90</th>\n",
       "      <th>91</th>\n",
       "      <th>92</th>\n",
       "      <th>93</th>\n",
       "      <th>94</th>\n",
       "      <th>95</th>\n",
       "      <th>96</th>\n",
       "      <th>97</th>\n",
       "      <th>98</th>\n",
       "      <th>99</th>\n",
       "    </tr>\n",
       "  </thead>\n",
       "  <tbody>\n",
       "    <tr>\n",
       "      <th>0</th>\n",
       "      <td>2.693774</td>\n",
       "      <td>-0.346464</td>\n",
       "      <td>-1.258219</td>\n",
       "      <td>0.800870</td>\n",
       "      <td>-0.825105</td>\n",
       "      <td>-0.794349</td>\n",
       "      <td>-0.709468</td>\n",
       "      <td>-0.418958</td>\n",
       "      <td>1.247275</td>\n",
       "      <td>1.406632</td>\n",
       "      <td>...</td>\n",
       "      <td>1.630381</td>\n",
       "      <td>1.358692</td>\n",
       "      <td>-1.578539</td>\n",
       "      <td>2.370399</td>\n",
       "      <td>-1.430241</td>\n",
       "      <td>-0.748474</td>\n",
       "      <td>0.397965</td>\n",
       "      <td>-0.517467</td>\n",
       "      <td>0.749365</td>\n",
       "      <td>0.423045</td>\n",
       "    </tr>\n",
       "    <tr>\n",
       "      <th>1</th>\n",
       "      <td>-0.470015</td>\n",
       "      <td>1.999925</td>\n",
       "      <td>0.653586</td>\n",
       "      <td>1.265638</td>\n",
       "      <td>-0.847920</td>\n",
       "      <td>-1.222233</td>\n",
       "      <td>0.919095</td>\n",
       "      <td>-0.942564</td>\n",
       "      <td>-0.731872</td>\n",
       "      <td>1.225976</td>\n",
       "      <td>...</td>\n",
       "      <td>0.690612</td>\n",
       "      <td>0.633490</td>\n",
       "      <td>-0.754980</td>\n",
       "      <td>0.253937</td>\n",
       "      <td>0.136920</td>\n",
       "      <td>0.305088</td>\n",
       "      <td>0.189149</td>\n",
       "      <td>1.082093</td>\n",
       "      <td>1.117244</td>\n",
       "      <td>-0.675108</td>\n",
       "    </tr>\n",
       "    <tr>\n",
       "      <th>2</th>\n",
       "      <td>1.518295</td>\n",
       "      <td>-1.423516</td>\n",
       "      <td>-2.058131</td>\n",
       "      <td>-1.390130</td>\n",
       "      <td>-0.094524</td>\n",
       "      <td>-2.084158</td>\n",
       "      <td>2.584558</td>\n",
       "      <td>1.474067</td>\n",
       "      <td>-0.932044</td>\n",
       "      <td>-1.447038</td>\n",
       "      <td>...</td>\n",
       "      <td>1.842877</td>\n",
       "      <td>-0.473500</td>\n",
       "      <td>-0.585131</td>\n",
       "      <td>0.055807</td>\n",
       "      <td>0.217828</td>\n",
       "      <td>-0.138402</td>\n",
       "      <td>-0.156314</td>\n",
       "      <td>-0.968944</td>\n",
       "      <td>-0.251782</td>\n",
       "      <td>1.194920</td>\n",
       "    </tr>\n",
       "    <tr>\n",
       "      <th>3</th>\n",
       "      <td>-1.802045</td>\n",
       "      <td>-0.673874</td>\n",
       "      <td>1.206232</td>\n",
       "      <td>-1.923674</td>\n",
       "      <td>0.131650</td>\n",
       "      <td>0.155936</td>\n",
       "      <td>-1.657034</td>\n",
       "      <td>1.305315</td>\n",
       "      <td>0.136493</td>\n",
       "      <td>2.492933</td>\n",
       "      <td>...</td>\n",
       "      <td>-1.624652</td>\n",
       "      <td>-0.948505</td>\n",
       "      <td>0.065133</td>\n",
       "      <td>-0.500389</td>\n",
       "      <td>1.186914</td>\n",
       "      <td>-0.658417</td>\n",
       "      <td>-0.121740</td>\n",
       "      <td>0.387741</td>\n",
       "      <td>-0.555904</td>\n",
       "      <td>2.130745</td>\n",
       "    </tr>\n",
       "    <tr>\n",
       "      <th>4</th>\n",
       "      <td>0.546413</td>\n",
       "      <td>0.195427</td>\n",
       "      <td>2.798404</td>\n",
       "      <td>1.502868</td>\n",
       "      <td>-2.133474</td>\n",
       "      <td>1.120130</td>\n",
       "      <td>-0.561682</td>\n",
       "      <td>0.206904</td>\n",
       "      <td>-1.793992</td>\n",
       "      <td>-1.601067</td>\n",
       "      <td>...</td>\n",
       "      <td>-1.108559</td>\n",
       "      <td>0.052836</td>\n",
       "      <td>-1.359299</td>\n",
       "      <td>-2.369615</td>\n",
       "      <td>1.152906</td>\n",
       "      <td>-0.608579</td>\n",
       "      <td>0.546642</td>\n",
       "      <td>-0.304222</td>\n",
       "      <td>-0.400820</td>\n",
       "      <td>2.481030</td>\n",
       "    </tr>\n",
       "    <tr>\n",
       "      <th>...</th>\n",
       "      <td>...</td>\n",
       "      <td>...</td>\n",
       "      <td>...</td>\n",
       "      <td>...</td>\n",
       "      <td>...</td>\n",
       "      <td>...</td>\n",
       "      <td>...</td>\n",
       "      <td>...</td>\n",
       "      <td>...</td>\n",
       "      <td>...</td>\n",
       "      <td>...</td>\n",
       "      <td>...</td>\n",
       "      <td>...</td>\n",
       "      <td>...</td>\n",
       "      <td>...</td>\n",
       "      <td>...</td>\n",
       "      <td>...</td>\n",
       "      <td>...</td>\n",
       "      <td>...</td>\n",
       "      <td>...</td>\n",
       "      <td>...</td>\n",
       "    </tr>\n",
       "    <tr>\n",
       "      <th>995</th>\n",
       "      <td>-1.492030</td>\n",
       "      <td>0.192680</td>\n",
       "      <td>2.520004</td>\n",
       "      <td>0.090861</td>\n",
       "      <td>-1.465224</td>\n",
       "      <td>-0.751056</td>\n",
       "      <td>0.339627</td>\n",
       "      <td>-0.201979</td>\n",
       "      <td>-1.943869</td>\n",
       "      <td>1.483363</td>\n",
       "      <td>...</td>\n",
       "      <td>0.730688</td>\n",
       "      <td>-1.863931</td>\n",
       "      <td>1.821293</td>\n",
       "      <td>-0.710641</td>\n",
       "      <td>0.537605</td>\n",
       "      <td>-1.778180</td>\n",
       "      <td>-0.043371</td>\n",
       "      <td>0.140585</td>\n",
       "      <td>-2.231528</td>\n",
       "      <td>0.498618</td>\n",
       "    </tr>\n",
       "    <tr>\n",
       "      <th>996</th>\n",
       "      <td>2.106005</td>\n",
       "      <td>-1.962114</td>\n",
       "      <td>0.689337</td>\n",
       "      <td>2.293544</td>\n",
       "      <td>-0.177777</td>\n",
       "      <td>0.952330</td>\n",
       "      <td>-0.993223</td>\n",
       "      <td>-2.492044</td>\n",
       "      <td>0.240275</td>\n",
       "      <td>0.763150</td>\n",
       "      <td>...</td>\n",
       "      <td>-1.902398</td>\n",
       "      <td>-0.103093</td>\n",
       "      <td>1.140046</td>\n",
       "      <td>-0.638656</td>\n",
       "      <td>-0.150855</td>\n",
       "      <td>1.069985</td>\n",
       "      <td>-0.220541</td>\n",
       "      <td>-1.466258</td>\n",
       "      <td>1.433473</td>\n",
       "      <td>1.015246</td>\n",
       "    </tr>\n",
       "    <tr>\n",
       "      <th>997</th>\n",
       "      <td>3.037368</td>\n",
       "      <td>-0.292567</td>\n",
       "      <td>-0.877244</td>\n",
       "      <td>-0.882948</td>\n",
       "      <td>0.225436</td>\n",
       "      <td>-0.228800</td>\n",
       "      <td>1.177789</td>\n",
       "      <td>-0.307642</td>\n",
       "      <td>-1.050209</td>\n",
       "      <td>2.385816</td>\n",
       "      <td>...</td>\n",
       "      <td>-2.531205</td>\n",
       "      <td>0.106459</td>\n",
       "      <td>-1.694378</td>\n",
       "      <td>0.942839</td>\n",
       "      <td>0.076029</td>\n",
       "      <td>-0.636097</td>\n",
       "      <td>-0.044366</td>\n",
       "      <td>-0.040400</td>\n",
       "      <td>-0.636392</td>\n",
       "      <td>1.949190</td>\n",
       "    </tr>\n",
       "    <tr>\n",
       "      <th>998</th>\n",
       "      <td>0.343363</td>\n",
       "      <td>3.497165</td>\n",
       "      <td>3.049525</td>\n",
       "      <td>3.195000</td>\n",
       "      <td>0.557973</td>\n",
       "      <td>0.426072</td>\n",
       "      <td>0.181718</td>\n",
       "      <td>-0.149642</td>\n",
       "      <td>0.009672</td>\n",
       "      <td>1.622852</td>\n",
       "      <td>...</td>\n",
       "      <td>-1.470710</td>\n",
       "      <td>-1.432467</td>\n",
       "      <td>0.193938</td>\n",
       "      <td>0.597016</td>\n",
       "      <td>-0.949573</td>\n",
       "      <td>-1.167728</td>\n",
       "      <td>0.182785</td>\n",
       "      <td>-3.042792</td>\n",
       "      <td>1.356341</td>\n",
       "      <td>0.379033</td>\n",
       "    </tr>\n",
       "    <tr>\n",
       "      <th>999</th>\n",
       "      <td>0.465439</td>\n",
       "      <td>0.479635</td>\n",
       "      <td>-1.255497</td>\n",
       "      <td>1.564992</td>\n",
       "      <td>1.540819</td>\n",
       "      <td>2.085601</td>\n",
       "      <td>-0.121673</td>\n",
       "      <td>-0.121492</td>\n",
       "      <td>2.465783</td>\n",
       "      <td>-1.914598</td>\n",
       "      <td>...</td>\n",
       "      <td>0.874603</td>\n",
       "      <td>-2.359413</td>\n",
       "      <td>0.267067</td>\n",
       "      <td>0.813952</td>\n",
       "      <td>0.067066</td>\n",
       "      <td>-0.696797</td>\n",
       "      <td>-0.179968</td>\n",
       "      <td>2.135285</td>\n",
       "      <td>0.188820</td>\n",
       "      <td>0.743799</td>\n",
       "    </tr>\n",
       "  </tbody>\n",
       "</table>\n",
       "<p>1000 rows × 100 columns</p>\n",
       "</div>"
      ],
      "text/plain": [
       "           0         1         2         3         4         5         6   \\\n",
       "0    2.693774 -0.346464 -1.258219  0.800870 -0.825105 -0.794349 -0.709468   \n",
       "1   -0.470015  1.999925  0.653586  1.265638 -0.847920 -1.222233  0.919095   \n",
       "2    1.518295 -1.423516 -2.058131 -1.390130 -0.094524 -2.084158  2.584558   \n",
       "3   -1.802045 -0.673874  1.206232 -1.923674  0.131650  0.155936 -1.657034   \n",
       "4    0.546413  0.195427  2.798404  1.502868 -2.133474  1.120130 -0.561682   \n",
       "..        ...       ...       ...       ...       ...       ...       ...   \n",
       "995 -1.492030  0.192680  2.520004  0.090861 -1.465224 -0.751056  0.339627   \n",
       "996  2.106005 -1.962114  0.689337  2.293544 -0.177777  0.952330 -0.993223   \n",
       "997  3.037368 -0.292567 -0.877244 -0.882948  0.225436 -0.228800  1.177789   \n",
       "998  0.343363  3.497165  3.049525  3.195000  0.557973  0.426072  0.181718   \n",
       "999  0.465439  0.479635 -1.255497  1.564992  1.540819  2.085601 -0.121673   \n",
       "\n",
       "           7         8         9   ...        90        91        92  \\\n",
       "0   -0.418958  1.247275  1.406632  ...  1.630381  1.358692 -1.578539   \n",
       "1   -0.942564 -0.731872  1.225976  ...  0.690612  0.633490 -0.754980   \n",
       "2    1.474067 -0.932044 -1.447038  ...  1.842877 -0.473500 -0.585131   \n",
       "3    1.305315  0.136493  2.492933  ... -1.624652 -0.948505  0.065133   \n",
       "4    0.206904 -1.793992 -1.601067  ... -1.108559  0.052836 -1.359299   \n",
       "..        ...       ...       ...  ...       ...       ...       ...   \n",
       "995 -0.201979 -1.943869  1.483363  ...  0.730688 -1.863931  1.821293   \n",
       "996 -2.492044  0.240275  0.763150  ... -1.902398 -0.103093  1.140046   \n",
       "997 -0.307642 -1.050209  2.385816  ... -2.531205  0.106459 -1.694378   \n",
       "998 -0.149642  0.009672  1.622852  ... -1.470710 -1.432467  0.193938   \n",
       "999 -0.121492  2.465783 -1.914598  ...  0.874603 -2.359413  0.267067   \n",
       "\n",
       "           93        94        95        96        97        98        99  \n",
       "0    2.370399 -1.430241 -0.748474  0.397965 -0.517467  0.749365  0.423045  \n",
       "1    0.253937  0.136920  0.305088  0.189149  1.082093  1.117244 -0.675108  \n",
       "2    0.055807  0.217828 -0.138402 -0.156314 -0.968944 -0.251782  1.194920  \n",
       "3   -0.500389  1.186914 -0.658417 -0.121740  0.387741 -0.555904  2.130745  \n",
       "4   -2.369615  1.152906 -0.608579  0.546642 -0.304222 -0.400820  2.481030  \n",
       "..        ...       ...       ...       ...       ...       ...       ...  \n",
       "995 -0.710641  0.537605 -1.778180 -0.043371  0.140585 -2.231528  0.498618  \n",
       "996 -0.638656 -0.150855  1.069985 -0.220541 -1.466258  1.433473  1.015246  \n",
       "997  0.942839  0.076029 -0.636097 -0.044366 -0.040400 -0.636392  1.949190  \n",
       "998  0.597016 -0.949573 -1.167728  0.182785 -3.042792  1.356341  0.379033  \n",
       "999  0.813952  0.067066 -0.696797 -0.179968  2.135285  0.188820  0.743799  \n",
       "\n",
       "[1000 rows x 100 columns]"
      ]
     },
     "execution_count": 109,
     "metadata": {},
     "output_type": "execute_result"
    }
   ],
   "source": [
    "tensor_draw = yhat.sample(1000)\n",
    "pd.DataFrame(tensor_draw.numpy().squeeze())"
   ]
  },
  {
   "cell_type": "markdown",
   "metadata": {},
   "source": [
    "And plot the mean, as before."
   ]
  },
  {
   "cell_type": "code",
   "execution_count": 110,
   "metadata": {},
   "outputs": [
    {
     "data": {
      "text/plain": [
       "<matplotlib.axes._subplots.AxesSubplot at 0x144c8a1d0>"
      ]
     },
     "execution_count": 110,
     "metadata": {},
     "output_type": "execute_result"
    },
    {
     "data": {
      "image/png": "[encoded data removed]",
      "text/plain": [
       "<Figure size 432x288 with 1 Axes>"
      ]
     },
     "metadata": {
      "needs_background": "light"
     },
     "output_type": "display_data"
    }
   ],
   "source": [
    "df = pd.DataFrame(tensor_draw.numpy().squeeze())\n",
    "df.mean().plot()"
   ]
  },
  {
   "cell_type": "markdown",
   "metadata": {},
   "source": [
    "The mean looks the same as before, maybe a little more wiggly as we get to the higher _x_'s -- that's good."
   ]
  },
  {
   "cell_type": "markdown",
   "metadata": {},
   "source": [
    "How about the standard deviations?"
   ]
  },
  {
   "cell_type": "code",
   "execution_count": 111,
   "metadata": {},
   "outputs": [
    {
     "data": {
      "text/plain": [
       "<matplotlib.axes._subplots.AxesSubplot at 0x1437dd150>"
      ]
     },
     "execution_count": 111,
     "metadata": {},
     "output_type": "execute_result"
    },
    {
     "data": {
      "image/png": "[encoded data removed]",
      "text/plain": [
       "<Figure size 432x288 with 1 Axes>"
      ]
     },
     "metadata": {
      "needs_background": "light"
     },
     "output_type": "display_data"
    }
   ],
   "source": [
    "df.std().plot()"
   ]
  },
  {
   "cell_type": "markdown",
   "metadata": {},
   "source": [
    "And, we've captured the heteroskedasticity present in our model now! Standard deviation in the distribution that describes the observed random variable appears to be increasing almost linearly with the random variable itself."
   ]
  },
  {
   "cell_type": "code",
   "execution_count": 112,
   "metadata": {},
   "outputs": [
    {
     "data": {
      "text/plain": [
       "(1.3694405555725098, 1.2841256856918335)"
      ]
     },
     "execution_count": 112,
     "metadata": {},
     "output_type": "execute_result"
    }
   ],
   "source": [
    "df[0].std(), df[50].std()#, df[100].std(), df[149].std()"
   ]
  },
  {
   "cell_type": "markdown",
   "metadata": {},
   "source": [
    "Let's plot to confirm."
   ]
  },
  {
   "cell_type": "code",
   "execution_count": 113,
   "metadata": {},
   "outputs": [
    {
     "data": {
      "image/png": "[encoded data removed]",
      "text/plain": [
       "<Figure size 720x612 with 1 Axes>"
      ]
     },
     "metadata": {
      "needs_background": "light"
     },
     "output_type": "display_data"
    }
   ],
   "source": [
    "plt.figure(figsize=[10, 8.5])\n",
    "plt.plot(x, y, 'b.', label='observed');\n",
    "\n",
    "m = yhat.mean()\n",
    "s = yhat.stddev()\n",
    "\n",
    "plt.plot(x_tst, m, 'r', linewidth=4, label='mean');\n",
    "plt.plot(x_tst, m + 2 * s, 'g', linewidth=2, label=r'mean + 2 stddev');  # +2 standard deviations\n",
    "plt.plot(x_tst, m - 2 * s, 'g', linewidth=2, label=r'mean - 2 stddev');  # -2 standard deviations\n",
    "\n",
    "#plt.ylim(-0.,17);\n",
    "#plt.yticks(np.linspace(0, 15, 4)[1:]);\n",
    "#plt.xticks(np.linspace(*x_range, num=9));\n",
    "\n",
    "ax = plt.gca();\n",
    "ax.xaxis.set_ticks_position('bottom')\n",
    "ax.yaxis.set_ticks_position('left')\n",
    "ax.spines['left'].set_position(('data', 0))\n",
    "ax.spines['top'].set_visible(False)\n",
    "ax.spines['right'].set_visible(False)\n",
    "plt.legend(loc='center left', fancybox=True, framealpha=0., bbox_to_anchor=(1.05, 0.5))\n",
    "\n",
    "plt.savefig('/tmp/fig2.png', bbox_inches='tight', dpi=300)"
   ]
  },
  {
   "cell_type": "markdown",
   "metadata": {},
   "source": [
    "Great! We've appropriately indicated that there's more _variance_ in the model's predictions as it gets further away from zero.\n",
    "\n",
    "This sort of uncertainty is called __aleatoric uncertainty__ -- that is, uncertainty due to the problem itself."
   ]
  },
  {
   "cell_type": "code",
   "execution_count": 114,
   "metadata": {},
   "outputs": [
    {
     "data": {
      "text/html": [
       "<iframe src=\"https://en.wikipedia.org/wiki/Uncertainty_quantification#Aleatoric_and_epistemic_uncertainty\" width=\"900\" height=\"500\"></iframe>\n"
      ],
      "text/plain": [
       "<IPython.core.display.HTML object>"
      ]
     },
     "metadata": {},
     "output_type": "display_data"
    }
   ],
   "source": [
    "%%HTML\n",
    "<iframe src=\"https://en.wikipedia.org/wiki/Uncertainty_quantification#Aleatoric_and_epistemic_uncertainty\" width=\"900\" height=\"500\"></iframe>"
   ]
  },
  {
   "cell_type": "markdown",
   "metadata": {},
   "source": [
    "## Specifying uncertainty in the model slope"
   ]
  },
  {
   "cell_type": "markdown",
   "metadata": {},
   "source": [
    "We've outlined how to capture uncertainty in the model outputs due to the behavior of the data, but what about uncertainty in the model's definition itself? In order to do this, we'll need to replace our previous _Dense_ layer with a _Dense Variational_ layer, using TensorFlow Probability Distributions' nice feature of interoperability with Keras.\n",
    "\n",
    "This is very similar to the previous `DenseVariational` layer we used in the last example."
   ]
  },
  {
   "cell_type": "code",
   "execution_count": 115,
   "metadata": {},
   "outputs": [],
   "source": [
    "def posterior_mean_field(kernel_size: int, bias_size: Optional[int] = 0, dtype: Optional[str] = None) -> tf.keras.Model:\n",
    "    \"\"\"Specify the surrogate posterior over `keras.layers.Dense` `kernel` and `bias`.\"\"\"\n",
    "    n = kernel_size + bias_size\n",
    "    c = np.log(np.expm1(1.))\n",
    "    \n",
    "    return tf.keras.Sequential([\n",
    "      tfp.layers.VariableLayer(2 * n, dtype=dtype),\n",
    "      tfp.layers.DistributionLambda(lambda t: tfd.Independent(\n",
    "          tfd.Normal(loc=t[..., :n],\n",
    "                     scale=1e-5 + tf.nn.softplus(c + t[..., n:])),\n",
    "          reinterpreted_batch_ndims=1)),\n",
    "  ])\n",
    "\n",
    "\n",
    "def prior_trainable(kernel_size: int, bias_size: Optional[int] = 0, dtype: Optional[str] = None) -> tf.keras.Model:\n",
    "    \"\"\"Specify the prior over `keras.layers.Dense` `kernel` and `bias`.\"\"\"\n",
    "    n = kernel_size + bias_size\n",
    "    \n",
    "    return tf.keras.Sequential([\n",
    "      tfp.layers.VariableLayer(n, dtype=dtype),\n",
    "      tfp.layers.DistributionLambda(lambda t: tfd.Independent(\n",
    "          tfd.Normal(loc=t, scale=1),\n",
    "          reinterpreted_batch_ndims=1)),\n",
    "    ])"
   ]
  },
  {
   "cell_type": "markdown",
   "metadata": {},
   "source": [
    "This time, we won't be modeling the aleatoric uncertainty in the model predictions (specified by the distribution standard deviation), but instead focus strictly on the _epistemic_ uncertainty we have in the model's specification."
   ]
  },
  {
   "cell_type": "code",
   "execution_count": 116,
   "metadata": {},
   "outputs": [
    {
     "name": "stdout",
     "output_type": "stream",
     "text": [
      "\n",
      "....................................................................................................\n",
      "....................................................................................................\n",
      "....................................................................................................\n",
      "....................................................................................................\n",
      "....................................................................................................\n",
      "....................................................................................................\n",
      "....................................................................................................\n",
      "....................................................................................................\n",
      "....................................................................................................\n",
      "...................................................................................................."
     ]
    }
   ],
   "source": [
    "# Build model.\n",
    "model = tf.keras.Sequential([\n",
    "  tfp.layers.DenseVariational(1, make_posterior_fn=posterior_mean_field, make_prior_fn=prior_trainable, kl_weight=1/x.shape[0]),\n",
    "  tfp.layers.DistributionLambda(lambda t: tfd.Normal(loc=t, scale=1)),  # Revert back to previous lambda.\n",
    "])\n",
    "\n",
    "\n",
    "model.compile(optimizer=tf.optimizers.Adam(learning_rate=0.01), loss=negloglik)\n",
    "model.fit(x, y, epochs=1000, verbose=False, callbacks=[PrintDot()])\n",
    "\n",
    "yhat = model(x_tst)\n",
    "assert isinstance(yhat, tfd.Distribution)"
   ]
  },
  {
   "cell_type": "markdown",
   "metadata": {},
   "source": [
    " "
   ]
  },
  {
   "cell_type": "markdown",
   "metadata": {},
   "source": [
    "Remember, every time we make a prediction, we'll be defining a new `Distribution` whose mean is our expected slope value for the linear model."
   ]
  },
  {
   "cell_type": "markdown",
   "metadata": {},
   "source": [
    " "
   ]
  },
  {
   "cell_type": "code",
   "execution_count": 117,
   "metadata": {},
   "outputs": [],
   "source": [
    "yhats = [model(x_tst) for _ in range(100)]  # Generate a lot of predictions for each x value."
   ]
  },
  {
   "cell_type": "code",
   "execution_count": 118,
   "metadata": {},
   "outputs": [
    {
     "data": {
      "image/png": "[encoded data removed]",
      "text/plain": [
       "<Figure size 720x612 with 1 Axes>"
      ]
     },
     "metadata": {
      "needs_background": "light"
     },
     "output_type": "display_data"
    }
   ],
   "source": [
    "plt.figure(figsize=[10, 8.5])\n",
    "plt.clf();\n",
    "plt.plot(x, y, 'b.', label='observed');\n",
    "\n",
    "avgm = np.zeros_like(x_tst[..., 0])\n",
    "for i, yhat in enumerate(yhats):\n",
    "    m = np.squeeze(yhat.mean())  # Randomly-drawn slope value.\n",
    "    if i < 25:  # Only plot the first 25 mean slope values\n",
    "        plt.plot(x_tst, m, 'r', label='ensemble means' if i == 0 else None, linewidth=0.5)\n",
    "    avgm += m\n",
    "plt.plot(x_tst, avgm/len(yhats), 'r', label='overall mean', linewidth=4)\n",
    "\n",
    "#plt.ylim(-0.,17);\n",
    "#plt.yticks(np.linspace(0, 15, 4)[1:]);\n",
    "#plt.xticks(np.linspace(*x_range, num=9));\n",
    "\n",
    "ax = plt.gca();\n",
    "ax.xaxis.set_ticks_position('bottom')\n",
    "ax.yaxis.set_ticks_position('left')\n",
    "ax.spines['left'].set_position(('data', 0))\n",
    "ax.spines['top'].set_visible(False)\n",
    "ax.spines['right'].set_visible(False)\n",
    "plt.legend(loc='center left', fancybox=True, framealpha=0., bbox_to_anchor=(1.05, 0.5))\n",
    "\n",
    "plt.savefig('/tmp/fig3.png', bbox_inches='tight', dpi=300)"
   ]
  },
  {
   "cell_type": "markdown",
   "metadata": {},
   "source": [
    "This is great! Now we can show the _range_ of slopes that are potentially available to our model, rather than a simple point estimate for one of them."
   ]
  },
  {
   "cell_type": "markdown",
   "metadata": {},
   "source": [
    "Note especially that, not only are we showing uncertainty as we move away from zero in the positive direction, but _also_ as we move away from zero in the negative direction."
   ]
  },
  {
   "cell_type": "code",
   "execution_count": 119,
   "metadata": {},
   "outputs": [
    {
     "ename": "ValueError",
     "evalue": "cannot reshape array of size 100000 into shape (1000,150)",
     "output_type": "error",
     "traceback": [
      "\u001b[0;31m---------------------------------------------------------------------------\u001b[0m",
      "\u001b[0;31mValueError\u001b[0m                                Traceback (most recent call last)",
      "\u001b[0;32m<ipython-input-119-5a9d5f6183cd>\u001b[0m in \u001b[0;36m<module>\u001b[0;34m\u001b[0m\n\u001b[1;32m      1\u001b[0m \u001b[0mtensor_draw\u001b[0m \u001b[0;34m=\u001b[0m \u001b[0myhat\u001b[0m\u001b[0;34m.\u001b[0m\u001b[0msample\u001b[0m\u001b[0;34m(\u001b[0m\u001b[0;36m1000\u001b[0m\u001b[0;34m)\u001b[0m\u001b[0;34m\u001b[0m\u001b[0;34m\u001b[0m\u001b[0m\n\u001b[0;32m----> 2\u001b[0;31m \u001b[0mpd\u001b[0m\u001b[0;34m.\u001b[0m\u001b[0mDataFrame\u001b[0m\u001b[0;34m(\u001b[0m\u001b[0mtensor_draw\u001b[0m\u001b[0;34m.\u001b[0m\u001b[0mnumpy\u001b[0m\u001b[0;34m(\u001b[0m\u001b[0;34m)\u001b[0m\u001b[0;34m.\u001b[0m\u001b[0mreshape\u001b[0m\u001b[0;34m(\u001b[0m\u001b[0;36m1000\u001b[0m\u001b[0;34m,\u001b[0m \u001b[0;36m150\u001b[0m\u001b[0;34m)\u001b[0m\u001b[0;34m)\u001b[0m\u001b[0;34m\u001b[0m\u001b[0;34m\u001b[0m\u001b[0m\n\u001b[0m",
      "\u001b[0;31mValueError\u001b[0m: cannot reshape array of size 100000 into shape (1000,150)"
     ]
    }
   ],
   "source": [
    "tensor_draw = yhat.sample(1000)\n",
    "pd.DataFrame(tensor_draw.numpy().reshape(1000, 150))"
   ]
  },
  {
   "cell_type": "code",
   "execution_count": 120,
   "metadata": {},
   "outputs": [
    {
     "data": {
      "text/plain": [
       "<matplotlib.axes._subplots.AxesSubplot at 0x1452d5ed0>"
      ]
     },
     "execution_count": 120,
     "metadata": {},
     "output_type": "execute_result"
    },
    {
     "data": {
      "image/png": "[encoded data removed]",
      "text/plain": [
       "<Figure size 432x288 with 1 Axes>"
      ]
     },
     "metadata": {
      "needs_background": "light"
     },
     "output_type": "display_data"
    }
   ],
   "source": [
    "df = pd.DataFrame(tensor_draw.numpy().squeeze())\n",
    "df.mean().plot()"
   ]
  },
  {
   "cell_type": "code",
   "execution_count": 121,
   "metadata": {},
   "outputs": [
    {
     "data": {
      "text/plain": [
       "<matplotlib.axes._subplots.AxesSubplot at 0x145caa210>"
      ]
     },
     "execution_count": 121,
     "metadata": {},
     "output_type": "execute_result"
    },
    {
     "data": {
      "image/png": "[encoded data removed]",
      "text/plain": [
       "<Figure size 432x288 with 1 Axes>"
      ]
     },
     "metadata": {
      "needs_background": "light"
     },
     "output_type": "display_data"
    }
   ],
   "source": [
    "df.std().plot()"
   ]
  },
  {
   "cell_type": "markdown",
   "metadata": {},
   "source": [
    "## Aleatoric _and_ epistemic uncertainty"
   ]
  },
  {
   "cell_type": "markdown",
   "metadata": {},
   "source": [
    "A natural question when we've modeled each of aleatoric and epistemic uncertainty is, could we model them both simultaneously?\n",
    "\n",
    "Of course we can! Just as before, we can tack another output onto the `Dense` (now `DenseVariational`) layer, and use that second output to model the standard deviation of the distribution being fit to the model's outputs."
   ]
  },
  {
   "cell_type": "code",
   "execution_count": 122,
   "metadata": {},
   "outputs": [
    {
     "name": "stdout",
     "output_type": "stream",
     "text": [
      "\n",
      "....................................................................................................\n",
      "....................................................................................................\n",
      "....................................................................................................\n",
      "....................................................................................................\n",
      "....................................................................................................\n",
      "....................................................................................................\n",
      "....................................................................................................\n",
      "....................................................................................................\n",
      "....................................................................................................\n",
      "...................................................................................................."
     ]
    }
   ],
   "source": [
    "model = tf.keras.Sequential(\n",
    "    [\n",
    "        tfp.layers.DenseVariational(\n",
    "            1 + 1, posterior_mean_field, prior_trainable, kl_weight=1/x.shape[0]\n",
    "        ),\n",
    "        tfp.layers.DistributionLambda(\n",
    "            lambda t: tfd.Normal(\n",
    "                loc=t[..., :1],\n",
    "                scale=1e-3 + tf.math.softplus(0.01 * t[...,1:])\n",
    "            )\n",
    "        ),\n",
    "    ]\n",
    ")\n",
    "\n",
    "model.compile(optimizer=tf.optimizers.Adam(learning_rate=0.01), loss=negloglik)\n",
    "model.fit(x, y, epochs=1000, verbose=False, callbacks=[PrintDot()])\n",
    "\n",
    "yhat = model(x_tst)\n",
    "assert isinstance(yhat, tfd.Distribution)"
   ]
  },
  {
   "cell_type": "markdown",
   "metadata": {},
   "source": [
    "You might ask, how does this work, if the output of a `DenseVariational` layer is a distribution and not a float? How can `keras` pass a distribution to a parameterize a distribution?"
   ]
  },
  {
   "cell_type": "markdown",
   "metadata": {},
   "source": [
    "The answer here is that typically, yes, the `DenseVariational` layer outputs a `tensorflow_probability` `Distribution` object; however, due to the first-class integration of TensorFlow Probability and TensorFlow 2.0 Keras, the model can recognize that the next layer expects a float and draw one from its distribution when called. \n",
    "\n",
    "We actually did this in the previous notebook when we subbed in a `DenseVariational` layer for the _first_ of two `Dense` layers and let it feed into the next `Dense` layer transparently. That's the magic of TensorFlow Probability and TensorFlow Keras."
   ]
  },
  {
   "cell_type": "code",
   "execution_count": 125,
   "metadata": {},
   "outputs": [
    {
     "data": {
      "image/png": "[encoded data removed]",
      "text/plain": [
       "<Figure size 720x612 with 1 Axes>"
      ]
     },
     "metadata": {
      "needs_background": "light"
     },
     "output_type": "display_data"
    }
   ],
   "source": [
    "plt.figure(figsize=[10, 8.5])\n",
    "plt.plot(x, y, 'b.', label='observed');\n",
    "\n",
    "yhats = [model(x_tst) for _ in range(100)]\n",
    "avgm = np.zeros_like(x_tst[..., 0])\n",
    "\n",
    "\n",
    "\n",
    "yhat0 = yhats[0]\n",
    "#print(yhat0)\n",
    "#print(yhat0.mean())\n",
    "#print(yhat0.stddev())\n",
    "\n",
    "yhat1 = yhats[1]\n",
    "#print(yhat0)\n",
    "#print(yhat0.mean())\n",
    "#print(yhat1.stddev())\n",
    "\n",
    "model_s = []\n",
    "for i, yhat in enumerate(yhats):\n",
    "    m = np.squeeze(yhat.mean())\n",
    "    s = np.squeeze(yhat.stddev())\n",
    "    model_s.append([s])\n",
    "    if i < 15:\n",
    "        plt.plot(x_tst, m, 'r', label='ensemble means' if i == 0 else None, linewidth=1.)\n",
    "        plt.plot(x_tst, m + 2 * s, 'g', linewidth=0.5, label='ensemble means + 2 ensemble stdev' if i == 0 else None);\n",
    "        plt.plot(x_tst, m - 2 * s, 'g', linewidth=0.5, label='ensemble means - 2 ensemble stdev' if i == 0 else None);\n",
    "    avgm += m\n",
    "#print(np.mean(model_s,axis = 0))\n",
    "\n",
    "plt.plot(x_tst, avgm/len(yhats), 'r', label='overall mean', linewidth=4)\n",
    "\n",
    "#plt.ylim(-0.,17);\n",
    "#plt.yticks(np.linspace(0, 15, 4)[1:]);\n",
    "#plt.xticks(np.linspace(*x_range, num=9));\n",
    "\n",
    "ax = plt.gca();\n",
    "ax.xaxis.set_ticks_position('bottom')\n",
    "ax.yaxis.set_ticks_position('left')\n",
    "ax.spines['left'].set_position(('data', 0))\n",
    "ax.spines['top'].set_visible(False)\n",
    "ax.spines['right'].set_visible(False)\n",
    "plt.legend(loc='center left', fancybox=True, framealpha=0., bbox_to_anchor=(1.05, 0.5))\n",
    "\n",
    "plt.savefig('/tmp/fig4.png', bbox_inches='tight', dpi=300)"
   ]
  },
  {
   "cell_type": "markdown",
   "metadata": {},
   "source": [
    "Compared to the prior model that strictly considered aleatoric uncertainty, we're now able to capture the heteroskedasticity on _both_ sides of zero. Earlier, we only had one estimate of the standard deviation over model outputs coming from a single instantiated `Dense` layer, and the linear relationship favored the more obvious aleatoric uncertainty to the far positive end of the training data set. Once we instead set the model to draw from a distribution of reasonable standard deviations in epistemic fashion, we're able to capture the aleatoric uncertainty on either side of the y-axis."
   ]
  },
  {
   "cell_type": "markdown",
   "metadata": {},
   "source": [
    "## Takeaways\n",
    "\n",
    "- There are two types of uncertainty that we're concerned with in probabilistc modeling:\n",
    "  - **Epistemic** uncertainty, which is due to our knowledge of the problem\n",
    "  - **Aleatoric** uncertainty, which is due to the problem itself\n",
    "- TensorFlow Probability allows us to reason about either or both of these uncertainty types by parameterizing distributions over model outputs and model weights.\n",
    "- We can use traditional `keras` layers to parameterize TensorFlow Probability `distributions` and select sensible distributions for the problem at-hand."
   ]
  },
  {
   "cell_type": "markdown",
   "metadata": {},
   "source": [
    " "
   ]
  },
  {
   "cell_type": "markdown",
   "metadata": {},
   "source": [
    "## References\n",
    "\n",
    "Once again, this material was adapted from the blog post [Regression with Probabilistic Layers in TensorFlow Probability](https://medium.com/tensorflow/regression-with-probabilistic-layers-in-tensorflow-probability-e46ff5d37baf), by the TFP team. Everyone is encouraged to check it out firsthand. There is a big reveal at the end that we did not spoil in this notebook."
   ]
  },
  {
   "cell_type": "markdown",
   "metadata": {},
   "source": [
    " "
   ]
  },
  {
   "cell_type": "markdown",
   "metadata": {},
   "source": [
    "Additionally, Josh Dillon, a senior member of the TFP team, gave a talk on TensorFlow Probability at the TensorFlow Dev Summit this year highlighting this problem and other high-level features of the library. Please check it out!"
   ]
  },
  {
   "cell_type": "code",
   "execution_count": 44,
   "metadata": {},
   "outputs": [
    {
     "name": "stderr",
     "output_type": "stream",
     "text": [
      "/Users/zach_anglin/.pyenv/versions/3.7.3/lib/python3.7/site-packages/IPython/core/display.py:701: UserWarning: Consider using IPython.display.IFrame instead\n",
      "  warnings.warn(\"Consider using IPython.display.IFrame instead\")\n"
     ]
    },
    {
     "data": {
      "text/html": [
       "<iframe width=\"560\" height=\"315\" src=\"https://www.youtube.com/embed/BrwKURU-wpk\" frameborder=\"0\" allow=\"accelerometer; autoplay; encrypted-media; gyroscope; picture-in-picture\" allowfullscreen></iframe>"
      ],
      "text/plain": [
       "<IPython.core.display.HTML object>"
      ]
     },
     "execution_count": 44,
     "metadata": {},
     "output_type": "execute_result"
    }
   ],
   "source": [
    "from IPython.display import HTML\n",
    "\n",
    "HTML('<iframe width=\"560\" height=\"315\" src=\"https://www.youtube.com/embed/BrwKURU-wpk\" frameborder=\"0\" allow=\"accelerometer; autoplay; encrypted-media; gyroscope; picture-in-picture\" allowfullscreen></iframe>')\n"
   ]
  },
  {
   "cell_type": "code",
   "execution_count": null,
   "metadata": {},
   "outputs": [],
   "source": []
  }
 ],
 "metadata": {
  "kernelspec": {
   "display_name": "Python 3",
   "language": "python",
   "name": "python3"
  },
  "language_info": {
   "codemirror_mode": {
    "name": "ipython",
    "version": 3
   },
   "file_extension": ".py",
   "mimetype": "text/x-python",
   "name": "python",
   "nbconvert_exporter": "python",
   "pygments_lexer": "ipython3",
   "version": "3.7.7"
  }
 },
 "nbformat": 4,
 "nbformat_minor": 4
}
