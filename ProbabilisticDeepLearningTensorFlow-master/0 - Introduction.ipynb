{
 "cells": [
  {
   "cell_type": "markdown",
   "metadata": {},
   "source": [
    "# Bayesian Deep Learning in TensorFlow Probability and TensorFlow 2.0 -- The How and the Why"
   ]
  },
  {
   "cell_type": "markdown",
   "metadata": {},
   "source": [
    " "
   ]
  },
  {
   "cell_type": "markdown",
   "metadata": {},
   "source": [
    " "
   ]
  },
  {
   "cell_type": "markdown",
   "metadata": {},
   "source": [
    "\n",
    "    \n",
    "![Hello](https://media1.giphy.com/media/ASd0Ukj0y3qMM/giphy.gif \"Wave\")\n"
   ]
  },
  {
   "cell_type": "markdown",
   "metadata": {},
   "source": [
    "## What this talk is\n",
    "\n",
    "- An overivew of the `layers` module of the recently-released TensorFlow Probability package and its integration into TensorFlow 2.0 `keras`\n",
    "- An explanation of how to use `tfp.layers` in order to fit distributions over weights of neural networks and why you would want to do that\n"
   ]
  },
  {
   "cell_type": "markdown",
   "metadata": {},
   "source": [
    " \n",
    " "
   ]
  },
  {
   "cell_type": "markdown",
   "metadata": {},
   "source": [
    "## What this talk isn't\n",
    "- An introduction to probabilistic programming, Bayesian reasoning, and their subtopics in a general fashion\n",
    "- A deep dive into the mechanics of variational inference and other techniques implemented in TensorFlow Probability\n",
    "- An introduction to vanilla neural networks and their applications"
   ]
  },
  {
   "cell_type": "markdown",
   "metadata": {},
   "source": [
    "## Who this talk is for\n",
    "\n",
    "- Pracitioners! Anyone interested in applying the latest in TensorFlow and TensorFlow Probability to solve interesting problems.\n",
    "- People who are interested in marrying probabilistic techniques with deep learning frameworks, but haven't yet delved in themselves."
   ]
  },
  {
   "cell_type": "markdown",
   "metadata": {},
   "source": [
    "## Why does this matter?"
   ]
  },
  {
   "cell_type": "code",
   "execution_count": 2,
   "metadata": {},
   "outputs": [
    {
     "data": {
      "text/html": [
       "<iframe width=\"560\" height=\"315\" src=\"https://www.youtube.com/embed/HumFmLu3CJ8\" frameborder=\"0\" allow=\"accelerometer; autoplay; encrypted-media; gyroscope; picture-in-picture\" allowfullscreen></iframe>"
      ],
      "text/plain": [
       "<IPython.core.display.HTML object>"
      ]
     },
     "execution_count": 2,
     "metadata": {},
     "output_type": "execute_result"
    }
   ],
   "source": [
    "from IPython.display import HTML\n",
    "\n",
    "HTML('<iframe width=\"560\" height=\"315\" src=\"https://www.youtube.com/embed/HumFmLu3CJ8\" frameborder=\"0\" allow=\"accelerometer; autoplay; encrypted-media; gyroscope; picture-in-picture\" allowfullscreen></iframe>')"
   ]
  },
  {
   "cell_type": "markdown",
   "metadata": {},
   "source": [
    "Probabilistic deep learning is a field that's experienced hype in the recent past, but its depth of required knowledge and lack of high-level tools has discouraged many from being able to participate. Frameworks like Pyro on PyTorch have sought to address this problem, but so far uptake remains low.\n",
    "\n",
    "With the recent release of TensorFlow 2.0, the probabilistic learning framework TensorFlow Probability is included as a first class member of the TensorFlow ecosystem, and interoperates cleanly with TensorFlow 2.0 `keras`. This makes previous problems like fitting priors on the weights in a convolutional neural network layer much more approachable from a computational standpoint, allowing practitioners to focus on the theory and problems they are trying to solve."
   ]
  }
 ],
 "metadata": {
  "kernelspec": {
   "display_name": "Python 3",
   "language": "python",
   "name": "python3"
  },
  "language_info": {
   "codemirror_mode": {
    "name": "ipython",
    "version": 3
   },
   "file_extension": ".py",
   "mimetype": "text/x-python",
   "name": "python",
   "nbconvert_exporter": "python",
   "pygments_lexer": "ipython3",
   "version": "3.7.3"
  }
 },
 "nbformat": 4,
 "nbformat_minor": 4
}
